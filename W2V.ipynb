{
 "cells": [
  {
   "cell_type": "code",
   "execution_count": 204,
   "metadata": {
    "collapsed": false
   },
   "outputs": [],
   "source": [
    "import pandas as pd\n",
    "import csv\n",
    "from scipy import spatial"
   ]
  },
  {
   "cell_type": "raw",
   "metadata": {},
   "source": [
    "Dataframe columns - signatureId and author\n",
    "Pre Processing steps on column author\n",
    "a) Remove white space \n",
    "b) lowercaseing"
   ]
  },
  {
   "cell_type": "code",
   "execution_count": 216,
   "metadata": {
    "collapsed": false
   },
   "outputs": [],
   "source": [
    "auth  = pd.read_csv('Auth',sep='|',low_memory=False)\n",
    "auth['lowered'] = auth[auth.columns[1]].apply(lambda x : x.replace(\" \", \"\").lower())"
   ]
  },
  {
   "cell_type": "code",
   "execution_count": 217,
   "metadata": {
    "collapsed": false
   },
   "outputs": [
    {
     "data": {
      "text/html": [
       "<div style=\"max-height:1000px;max-width:1500px;overflow:auto;\">\n",
       "<table border=\"1\" class=\"dataframe\">\n",
       "  <thead>\n",
       "    <tr style=\"text-align: right;\">\n",
       "      <th></th>\n",
       "      <th>sigID </th>\n",
       "      <th> author</th>\n",
       "      <th>lowered</th>\n",
       "    </tr>\n",
       "  </thead>\n",
       "  <tbody>\n",
       "    <tr>\n",
       "      <th>0</th>\n",
       "      <td> 1</td>\n",
       "      <td>          Lukic M</td>\n",
       "      <td>         lukicm</td>\n",
       "    </tr>\n",
       "    <tr>\n",
       "      <th>1</th>\n",
       "      <td> 2</td>\n",
       "      <td>        Houssin C</td>\n",
       "      <td>       houssinc</td>\n",
       "    </tr>\n",
       "    <tr>\n",
       "      <th>2</th>\n",
       "      <td> 3</td>\n",
       "      <td>      Deharveng L</td>\n",
       "      <td>     deharvengl</td>\n",
       "    </tr>\n",
       "    <tr>\n",
       "      <th>3</th>\n",
       "      <td> 4</td>\n",
       "      <td>         Rycerz L</td>\n",
       "      <td>        rycerzl</td>\n",
       "    </tr>\n",
       "    <tr>\n",
       "      <th>4</th>\n",
       "      <td> 5</td>\n",
       "      <td>  Ingier-Stocka E</td>\n",
       "      <td> ingier-stockae</td>\n",
       "    </tr>\n",
       "  </tbody>\n",
       "</table>\n",
       "</div>"
      ],
      "text/plain": [
       "   sigID             author         lowered\n",
       "0       1           Lukic M          lukicm\n",
       "1       2         Houssin C        houssinc\n",
       "2       3       Deharveng L      deharvengl\n",
       "3       4          Rycerz L         rycerzl\n",
       "4       5   Ingier-Stocka E  ingier-stockae"
      ]
     },
     "execution_count": 217,
     "metadata": {},
     "output_type": "execute_result"
    }
   ],
   "source": [
    "auth.head()"
   ]
  },
  {
   "cell_type": "raw",
   "metadata": {},
   "source": [
    "Dataframe column - articleid , group(authors)\n",
    "Preprosessing steps as same above"
   ]
  },
  {
   "cell_type": "code",
   "execution_count": 141,
   "metadata": {
    "collapsed": false
   },
   "outputs": [],
   "source": [
    "coauthor  = pd.read_csv('/Users/krishna/Dropbox/DMKM/Course/SEM2/DataPreprocessing/ADData/CoAuthors/part-00000',\n",
    "                        sep=',', header=None)\n",
    "coauthor[1] =coauthor[1].apply(lambda x : x.split(\",\"))\n",
    "coauthor[1] = coauthor[1].apply(lambda y : [x.replace(\" \", \"\").lower() for x in y])"
   ]
  },
  {
   "cell_type": "code",
   "execution_count": 174,
   "metadata": {
    "collapsed": false
   },
   "outputs": [
    {
     "data": {
      "text/html": [
       "<div style=\"max-height:1000px;max-width:1500px;overflow:auto;\">\n",
       "<table border=\"1\" class=\"dataframe\">\n",
       "  <thead>\n",
       "    <tr style=\"text-align: right;\">\n",
       "      <th></th>\n",
       "      <th>0</th>\n",
       "      <th>1</th>\n",
       "    </tr>\n",
       "  </thead>\n",
       "  <tbody>\n",
       "    <tr>\n",
       "      <th>0</th>\n",
       "      <td>  31</td>\n",
       "      <td> [petrosyana, balogha, goldsteinml, leoratj, ma...</td>\n",
       "    </tr>\n",
       "    <tr>\n",
       "      <th>1</th>\n",
       "      <td> 231</td>\n",
       "      <td> [luiaty, spanswicke, donovanef, liangj, liuww,...</td>\n",
       "    </tr>\n",
       "    <tr>\n",
       "      <th>2</th>\n",
       "      <td> 431</td>\n",
       "      <td> [leonjf, lioussec, galy-lacauxc, doumbiat, cac...</td>\n",
       "    </tr>\n",
       "    <tr>\n",
       "      <th>3</th>\n",
       "      <td> 631</td>\n",
       "      <td>                                        [lavalleb]</td>\n",
       "    </tr>\n",
       "    <tr>\n",
       "      <th>4</th>\n",
       "      <td> 831</td>\n",
       "      <td>                              [maillotv, rosslerd]</td>\n",
       "    </tr>\n",
       "  </tbody>\n",
       "</table>\n",
       "</div>"
      ],
      "text/plain": [
       "     0                                                  1\n",
       "0   31  [petrosyana, balogha, goldsteinml, leoratj, ma...\n",
       "1  231  [luiaty, spanswicke, donovanef, liangj, liuww,...\n",
       "2  431  [leonjf, lioussec, galy-lacauxc, doumbiat, cac...\n",
       "3  631                                         [lavalleb]\n",
       "4  831                               [maillotv, rosslerd]"
      ]
     },
     "execution_count": 174,
     "metadata": {},
     "output_type": "execute_result"
    }
   ],
   "source": [
    "coauthor.head()"
   ]
  },
  {
   "cell_type": "code",
   "execution_count": 155,
   "metadata": {
    "collapsed": true
   },
   "outputs": [],
   "source": [
    "from gensim.models.word2vec import Word2Vec"
   ]
  },
  {
   "cell_type": "code",
   "execution_count": 172,
   "metadata": {
    "collapsed": false
   },
   "outputs": [],
   "source": [
    "min_count = 1\n",
    "size = 10\n",
    "window = 5\n",
    "workers = 3\n",
    "model = Word2Vec(coauthor[1], min_count=min_count, size=size, window=window,sg=1,workers=workers)"
   ]
  },
  {
   "cell_type": "code",
   "execution_count": 214,
   "metadata": {
    "collapsed": false
   },
   "outputs": [
    {
     "data": {
      "text/plain": [
       "[('perelyginv', 0.9942110180854797),\n",
       " ('nogarett', 0.9930447936058044),\n",
       " ('oleynikd', 0.9928280711174011),\n",
       " ('hohns', 0.9916962385177612),\n",
       " ('tourmenf', 0.9884752035140991),\n",
       " ('tolbertlm', 0.9867356419563293),\n",
       " ('grantpm', 0.9861881732940674),\n",
       " ('frehywots', 0.9854642152786255),\n",
       " ('dombrowskih', 0.9850417375564575),\n",
       " ('gebhardth', 0.9842864274978638)]"
      ]
     },
     "execution_count": 214,
     "metadata": {},
     "output_type": "execute_result"
    }
   ],
   "source": [
    "model.most_similar('petrosyana')"
   ]
  },
  {
   "cell_type": "code",
   "execution_count": 215,
   "metadata": {
    "collapsed": false
   },
   "outputs": [
    {
     "data": {
      "text/plain": [
       "0.97447210531910222"
      ]
     },
     "execution_count": 215,
     "metadata": {},
     "output_type": "execute_result"
    }
   ],
   "source": [
    "model.similarity(\"helliwelljr\",\"leoratj\")"
   ]
  },
  {
   "cell_type": "code",
   "execution_count": 226,
   "metadata": {
    "collapsed": false
   },
   "outputs": [],
   "source": [
    "auth['word2vec'] = auth['lowered'].apply(lambda x : model[x] )"
   ]
  },
  {
   "cell_type": "code",
   "execution_count": 227,
   "metadata": {
    "collapsed": false
   },
   "outputs": [
    {
     "data": {
      "text/plain": [
       "array([ 0.05371874, -0.07439778,  0.3917329 , -0.15246899,  0.35638699,\n",
       "        0.14586256,  0.12886068, -0.10721818, -0.14641574,  0.08469024], dtype=float32)"
      ]
     },
     "execution_count": 227,
     "metadata": {},
     "output_type": "execute_result"
    }
   ],
   "source": [
    "auth['word2vec'][1]"
   ]
  },
  {
   "cell_type": "code",
   "execution_count": 229,
   "metadata": {
    "collapsed": false
   },
   "outputs": [
    {
     "data": {
      "text/html": [
       "<div style=\"max-height:1000px;max-width:1500px;overflow:auto;\">\n",
       "<table border=\"1\" class=\"dataframe\">\n",
       "  <thead>\n",
       "    <tr style=\"text-align: right;\">\n",
       "      <th></th>\n",
       "      <th>sigID </th>\n",
       "      <th> author</th>\n",
       "      <th>lowered</th>\n",
       "      <th>word2vec</th>\n",
       "    </tr>\n",
       "  </thead>\n",
       "  <tbody>\n",
       "    <tr>\n",
       "      <th>0</th>\n",
       "      <td> 1</td>\n",
       "      <td>          Lukic M</td>\n",
       "      <td>         lukicm</td>\n",
       "      <td> [0.0519219, -0.0298499, -0.0131599, -0.0544622...</td>\n",
       "    </tr>\n",
       "    <tr>\n",
       "      <th>1</th>\n",
       "      <td> 2</td>\n",
       "      <td>        Houssin C</td>\n",
       "      <td>       houssinc</td>\n",
       "      <td> [0.0537187, -0.0743978, 0.391733, -0.152469, 0...</td>\n",
       "    </tr>\n",
       "    <tr>\n",
       "      <th>2</th>\n",
       "      <td> 3</td>\n",
       "      <td>      Deharveng L</td>\n",
       "      <td>     deharvengl</td>\n",
       "      <td> [0.189426, -0.185234, 1.0976, -0.372116, 1.079...</td>\n",
       "    </tr>\n",
       "    <tr>\n",
       "      <th>3</th>\n",
       "      <td> 4</td>\n",
       "      <td>         Rycerz L</td>\n",
       "      <td>        rycerzl</td>\n",
       "      <td> [0.0430262, -0.0543479, 0.581947, -0.319386, 0...</td>\n",
       "    </tr>\n",
       "    <tr>\n",
       "      <th>4</th>\n",
       "      <td> 5</td>\n",
       "      <td>  Ingier-Stocka E</td>\n",
       "      <td> ingier-stockae</td>\n",
       "      <td> [0.0676492, 0.00107718, 0.48834, -0.265181, 0....</td>\n",
       "    </tr>\n",
       "  </tbody>\n",
       "</table>\n",
       "</div>"
      ],
      "text/plain": [
       "   sigID             author         lowered                                           word2vec\n",
       "0       1           Lukic M          lukicm  [0.0519219, -0.0298499, -0.0131599, -0.0544622...\n",
       "1       2         Houssin C        houssinc  [0.0537187, -0.0743978, 0.391733, -0.152469, 0...\n",
       "2       3       Deharveng L      deharvengl  [0.189426, -0.185234, 1.0976, -0.372116, 1.079...\n",
       "3       4          Rycerz L         rycerzl  [0.0430262, -0.0543479, 0.581947, -0.319386, 0...\n",
       "4       5   Ingier-Stocka E  ingier-stockae  [0.0676492, 0.00107718, 0.48834, -0.265181, 0...."
      ]
     },
     "execution_count": 229,
     "metadata": {},
     "output_type": "execute_result"
    }
   ],
   "source": [
    "auth.head()"
   ]
  },
  {
   "cell_type": "raw",
   "metadata": {},
   "source": [
    "Cosine Similarity between row0(Lukic M) and row1(Houssin C)"
   ]
  },
  {
   "cell_type": "code",
   "execution_count": 228,
   "metadata": {
    "collapsed": false
   },
   "outputs": [],
   "source": [
    "result = 1 - spatial.distance.cosine(auth['word2vec'][0], auth['word2vec'][1])"
   ]
  },
  {
   "cell_type": "code",
   "execution_count": 213,
   "metadata": {
    "collapsed": false
   },
   "outputs": [
    {
     "data": {
      "text/plain": [
       "0.2438862777176809"
      ]
     },
     "execution_count": 213,
     "metadata": {},
     "output_type": "execute_result"
    }
   ],
   "source": [
    "result"
   ]
  },
  {
   "cell_type": "code",
   "execution_count": 230,
   "metadata": {
    "collapsed": true
   },
   "outputs": [],
   "source": [
    "auth.to_csv('word2vec.csv', sep=',')"
   ]
  }
 ],
 "metadata": {
  "kernelspec": {
   "display_name": "Python 2",
   "language": "python",
   "name": "python2"
  },
  "language_info": {
   "codemirror_mode": {
    "name": "ipython",
    "version": 2
   },
   "file_extension": ".py",
   "mimetype": "text/x-python",
   "name": "python",
   "nbconvert_exporter": "python",
   "pygments_lexer": "ipython2",
   "version": "2.7.9"
  }
 },
 "nbformat": 4,
 "nbformat_minor": 0
}
